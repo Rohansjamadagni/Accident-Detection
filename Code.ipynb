{
 "cells": [
  {
   "cell_type": "code",
   "execution_count": 28,
   "metadata": {},
   "outputs": [
    {
     "data": {
      "text/plain": [
       "\"\\nRead this before Running anything\\n\\n\\nmake sure tensorflow, opencv, numpy, Flask, shapely and mathplot lib is all installed\\n\\nRun the first 2 cells and then Run the Cell which says FLASK CODE\\n\\nin this folder store model which is the model for CNN prediciton\\nIn this folder store a folder called yolo-coco and inside that folder store 'coco.names', 'yolov3.cfg'and yolov3.weights\\n\\n\\nRename car_chase_01.mp4 to demo.mp4\\n\\nfinally, go to 'localhost:5000'\\n\\n\\nto display the video.\\n\\n\""
      ]
     },
     "execution_count": 28,
     "metadata": {},
     "output_type": "execute_result"
    }
   ],
   "source": [
    "\"\"\"\n",
    "Read this before Running anything\n",
    "\n",
    "\n",
    "make sure tensorflow, opencv, numpy, Flask, shapely and mathplot lib is all installed\n",
    "\n",
    "Run the first 2 cells and then Run the Cell which says FLASK CODE\n",
    "\n",
    "in this folder store model which is the model for CNN prediciton\n",
    "In this folder store a folder called yolo-coco and inside that folder store 'coco.names', 'yolov3.cfg'and yolov3.weights\n",
    "\n",
    "\n",
    "Rename car_chase_01.mp4 to demo.mp4\n",
    "\n",
    "finally, go to 'localhost:5000'\n",
    "\n",
    "\n",
    "to display the video.\n",
    "\n",
    "\"\"\""
   ]
  },
  {
   "cell_type": "code",
   "execution_count": 47,
   "metadata": {},
   "outputs": [],
   "source": [
    "import tensorflow as tf\n",
    "import numpy as np\n",
    "import os\n",
    "from shapely.geometry import Polygon\n",
    "import matplotlib.pyplot as plt\n",
    "import numpy\n",
    "from tensorflow.python.keras.backend import set_session\n",
    "\n",
    "\n",
    "\n",
    "\n",
    "sess = tf.Session()\n",
    "graph = tf.get_default_graph()\n",
    "set_session(sess)\n",
    "model = tf.keras.models.load_model('model')\n",
    "\n",
    "\n",
    "def prepare(filepath):\n",
    "    global accident_value\n",
    "    IMG_SIZE = 200\n",
    "    img_array = cv2.imread(filepath, cv2.IMREAD_GRAYSCALE)\n",
    "    new_array = cv2.resize(img_array, (IMG_SIZE, IMG_SIZE))\n",
    "    \n",
    "    with graph.as_default():\n",
    "        set_session(sess)\n",
    "        x = (model.predict(new_array.reshape(-1, IMG_SIZE, IMG_SIZE, 1)))\n",
    "        if x==1:\n",
    "            accident_value = \"accident\"\n",
    "            cv2.imwrite( \"static/Final_image.jpg\",new_array)\n",
    "            cv2.imwrite( \"images/final_image/image.jpg\",new_array)\n",
    "            plt.imshow(new_array, cmap='gray')\n",
    "            plt.show()\n",
    "        return (model.predict(new_array.reshape(-1, IMG_SIZE, IMG_SIZE, 1)))\n",
    "\n"
   ]
  },
  {
   "cell_type": "code",
   "execution_count": 48,
   "metadata": {},
   "outputs": [
    {
     "data": {
      "text/plain": [
       "' Run the below cells for every Run! '"
      ]
     },
     "execution_count": 48,
     "metadata": {},
     "output_type": "execute_result"
    }
   ],
   "source": [
    "\"\"\" Run the below cells for every Run! \"\"\""
   ]
  },
  {
   "cell_type": "code",
   "execution_count": 49,
   "metadata": {},
   "outputs": [],
   "source": [
    "import time\n",
    "import threading\n",
    "path = \"\"\n",
    "try:\n",
    "    from greenlet import getcurrent as get_ident\n",
    "except ImportError:\n",
    "    try:\n",
    "        from thread import get_ident\n",
    "    except ImportError:\n",
    "        from _thread import get_ident\n",
    "\n",
    "\n",
    "class CameraEvent(object):\n",
    "    \"\"\"An Event-like class that signals all active clients when a new frame is\n",
    "    available.\n",
    "    \"\"\"\n",
    "    def __init__(self):\n",
    "        self.events = {}\n",
    "\n",
    "    def wait(self):\n",
    "        \"\"\"Invoked from each client's thread to wait for the next frame.\"\"\"\n",
    "        ident = get_ident()\n",
    "        if ident not in self.events:\n",
    "            # this is a new client\n",
    "            # add an entry for it in the self.events dict\n",
    "            # each entry has two elements, a threading.Event() and a timestamp\n",
    "            self.events[ident] = [threading.Event(), time.time()]\n",
    "        return self.events[ident][0].wait()\n",
    "\n",
    "    def set(self):\n",
    "        \"\"\"Invoked by the camera thread when a new frame is available.\"\"\"\n",
    "        now = time.time()\n",
    "        remove = None\n",
    "        for ident, event in self.events.items():\n",
    "            if not event[0].isSet():\n",
    "                # if this client's event is not set, then set it\n",
    "                # also update the last set timestamp to now\n",
    "                event[0].set()\n",
    "                event[1] = now\n",
    "            else:\n",
    "                # if the client's event is already set, it means the client\n",
    "                # did not process a previous frame\n",
    "                # if the event stays set for more than 5 seconds, then assume\n",
    "                # the client is gone and remove it\n",
    "                if now - event[1] > 5:\n",
    "                    remove = ident\n",
    "        if remove:\n",
    "            del self.events[remove]\n",
    "\n",
    "    def clear(self):\n",
    "        \"\"\"Invoked from each client's thread after a frame was processed.\"\"\"\n",
    "        self.events[get_ident()][0].clear()\n",
    "\n",
    "\n",
    "class BaseCamera(object):\n",
    "    thread = None  # background thread that reads frames from camera\n",
    "    frame = None  # current frame is stored here by background thread\n",
    "    last_access = 0  # time of last client access to the camera\n",
    "    event = CameraEvent()\n",
    "\n",
    "    def __init__(self):\n",
    "        \"\"\"Start the background camera thread if it isn't running yet.\"\"\"\n",
    "        if BaseCamera.thread is None:\n",
    "            BaseCamera.last_access = time.time()\n",
    "\n",
    "            # start background frame thread\n",
    "            BaseCamera.thread = threading.Thread(target=self._thread)\n",
    "            BaseCamera.thread.start()\n",
    "\n",
    "            # wait until frames are available\n",
    "            while self.get_frame() is None:\n",
    "                time.sleep(0)\n",
    "\n",
    "    def get_frame(self):\n",
    "        \"\"\"Return the current camera frame.\"\"\"\n",
    "        BaseCamera.last_access = time.time()\n",
    "\n",
    "        # wait for a signal from the camera thread\n",
    "        BaseCamera.event.wait()\n",
    "        BaseCamera.event.clear()\n",
    "\n",
    "        return BaseCamera.frame\n",
    "\n",
    "    @staticmethod\n",
    "    def frames():\n",
    "        \"\"\"\"Generator that returns frames from the camera.\"\"\"\n",
    "        raise RuntimeError('Must be implemented by subclasses.')\n",
    "\n",
    "    @classmethod\n",
    "    def _thread(cls):\n",
    "        \"\"\"Camera background thread.\"\"\"\n",
    "        print('Starting camera thread.')\n",
    "        frames_iterator = cls.frames()\n",
    "        for frame in frames_iterator:\n",
    "            BaseCamera.frame = frame\n",
    "            BaseCamera.event.set()  # send signal to clients\n",
    "            time.sleep(0)\n",
    "\n",
    "            # if there hasn't been any clients asking for frames in\n",
    "            # the last 10 seconds then stop the thread\n",
    "            if time.time() - BaseCamera.last_access > 10:\n",
    "                frames_iterator.close()\n",
    "                print('Stopping camera thread due to inactivity.')\n",
    "                break\n",
    "        BaseCamera.thread = None\n",
    "        \n",
    "import os\n",
    "import cv2\n",
    "# from base_camera import BaseCamera\n",
    "\n",
    "\n",
    "class Camera(BaseCamera):\n",
    "    video_source = 0\n",
    "\n",
    "    def __init__(self):\n",
    "        if os.environ.get('OPENCV_CAMERA_SOURCE'):\n",
    "            Camera.set_video_source(int(os.environ['OPENCV_CAMERA_SOURCE']))\n",
    "        super(Camera, self).__init__()\n",
    "\n",
    "    @staticmethod\n",
    "    def set_video_source(source):\n",
    "        Camera.video_source = source\n",
    "\n",
    "    @staticmethod\n",
    "    def frames():\n",
    "        i = 0\n",
    "        j = 0\n",
    "        camera = cv2.VideoCapture(path)\n",
    "        if not camera.isOpened():\n",
    "            raise RuntimeError('Could not start camera.')\n",
    "\n",
    "        while True:\n",
    "            # read current frame\n",
    "            _, img = camera.read()\n",
    "            img = cv2.resize(img,(400,300))\n",
    "            if i%20 == 0:\n",
    "                j=j+1\n",
    "#                 s = \"acc/ss{}.jpg\".format(j) for testing it is this, else it overwrites the same image\n",
    "                s = \"images/image_to_check.jpg\"\n",
    "                cv2.imwrite(s,img)\n",
    "                obj(s)\n",
    "                crops(s)\n",
    "                global x_y_values\n",
    "                x_y_values = []\n",
    "            i=i+1\n",
    "            yield cv2.imencode('.jpg', img)[1].tobytes()\n",
    "            # encode as a jpeg image and return it\n",
    "            \n",
    "x_y_values = []\n",
    "padding =150\n",
    "frames = 20\n",
    "def obj(name):\n",
    "    value = name\n",
    "    #value = \"object_detection/ss{}.jpg\".format(j)\n",
    "    \n",
    "    # load the COCO class labels our YOLO model was trained on\n",
    "    labelsPath = os.path.sep.join(['yolo-coco', \"coco.names\"])\n",
    "    LABELS = open(labelsPath).read().strip().split(\"\\n\")\n",
    "\n",
    "    # initialize a list of colors to represent each possible class label\n",
    "    np.random.seed(42)\n",
    "    COLORS = np.random.randint(0, 255, size=(len(LABELS), 3),\n",
    "        dtype=\"uint8\")\n",
    "\n",
    "    # derive the paths to the YOLO weights and model configuration\n",
    "    weightsPath = os.path.sep.join(['yolo-coco', \"yolov3.weights\"])\n",
    "    configPath = os.path.sep.join(['yolo-coco', \"yolov3.cfg\"])\n",
    "\n",
    "    # load our YOLO object detector trained on COCO dataset (80 classes)\n",
    "    print(\"[INFO] loading YOLO from disk...\")\n",
    "    net = cv2.dnn.readNetFromDarknet(configPath, weightsPath)\n",
    "\n",
    "    # load our input image and grab its spatial dimensions\n",
    "    image = cv2.imread(value)\n",
    "    (H, W) = image.shape[:2]\n",
    "\n",
    "    # determine only the *output* layer names that we need from YOLO\n",
    "    ln = net.getLayerNames()\n",
    "    ln = [ln[i[0] - 1] for i in net.getUnconnectedOutLayers()]\n",
    "\n",
    "    # construct a blob from the input image and then perform a forward\n",
    "    # pass of the YOLO object detector, giving us our bounding boxes and\n",
    "    # associated probabilities\n",
    "    blob = cv2.dnn.blobFromImage(image, 1 / 255.0, (416, 416),\n",
    "        swapRB=True, crop=False)\n",
    "    net.setInput(blob)\n",
    "    start = time.time()\n",
    "    layerOutputs = net.forward(ln)\n",
    "    end = time.time()\n",
    "\n",
    "    # show timing information on YOLO\n",
    "    print(\"[INFO] YOLO took {:.6f} seconds\".format(end - start))\n",
    "\n",
    "    # initialize our lists of detected bounding boxes, confidences, and\n",
    "    # class IDs, respectively\n",
    "    boxes = []\n",
    "    confidences = []\n",
    "    classIDs = []\n",
    "\n",
    "    # loop over each of the layer outputs\n",
    "    for output in layerOutputs:\n",
    "        # loop over each of the detections\n",
    "        for detection in output:\n",
    "            # extract the class ID and confidence (i.e., probability) of\n",
    "            # the current object detection\n",
    "            scores = detection[5:]\n",
    "            classID = np.argmax(scores)\n",
    "            confidence = scores[classID]\n",
    "\n",
    "            # filter out weak predictions by ensuring the detected\n",
    "            # probability is greater than the minimum probability\n",
    "            if confidence > 0.5:\n",
    "                # scale the bounding box coordinates back relative to the\n",
    "                # size of the image, keeping in mind that YOLO actually\n",
    "                # returns the center (x, y)-coordinates of the bounding\n",
    "                # box followed by the boxes' width and height\n",
    "                box = detection[0:4] * np.array([W, H, W, H])\n",
    "                (centerX, centerY, width, height) = box.astype(\"int\")\n",
    "\n",
    "                # use the center (x, y)-coordinates to derive the top and\n",
    "                # and left corner of the bounding box\n",
    "                x = int(centerX - (width / 2))\n",
    "                y = int(centerY - (height / 2))\n",
    "\n",
    "                # update our list of bounding box coordinates, confidences,\n",
    "                # and class IDs\n",
    "                boxes.append([x, y, int(width), int(height)])\n",
    "                confidences.append(float(confidence))\n",
    "                classIDs.append(classID)\n",
    "\n",
    "    # apply non-maxima suppression to suppress weak, overlapping bounding\n",
    "    # boxes\n",
    "    idxs = cv2.dnn.NMSBoxes(boxes, confidences, 0.5,\n",
    "        0.3)\n",
    "   \n",
    "    # ensure at least one detection exists\n",
    "    if len(idxs) > 0:\n",
    "        # loop over the indexes we are keeping\n",
    "        for i in idxs.flatten():\n",
    "            temp = []\n",
    "            # extract the bounding box coordinates\n",
    "            (x, y) = (boxes[i][0], boxes[i][1])\n",
    "            (w, h) = (boxes[i][2], boxes[i][3])\n",
    "\n",
    "            # draw a bounding box rectangle and label on the image\n",
    "            color = [int(c) for c in COLORS[classIDs[i]]]\n",
    "            \n",
    "\n",
    "            \n",
    "#             text = \"{}: {:.4f}\".format(LABELS[classIDs[i]], confidences[i])\n",
    "            text = \"{}\".format(LABELS[classIDs[i]])\n",
    "#             print(text)\n",
    "            if text == \"car\" or text==\"truck\":\n",
    "                temp.append([x,y+h])\n",
    "                temp.append([x+w,y+h])\n",
    "                temp.append([x+w,y])\n",
    "                temp.append([x,y])\n",
    "#                 temp.append([i])\n",
    "                x_y_values.append(temp)\n",
    "                cv2.rectangle(image, (x, y), (x + w, y + h), color, 2)\n",
    "                #cv2.putText(image, text, (x, y - 5), cv2.FONT_HERSHEY_SIMPLEX,\n",
    "                cv2.putText(image, str(i)+\", \"+str(x)+\" \"+(str(y)), (x, y - 5), cv2.FONT_HERSHEY_SIMPLEX,0.5, color, 2)\n",
    "\n",
    "    # show the output image\n",
    "    #cv2.imshow(\"Image\", image)\n",
    "    cv2.imwrite(\"images/image_after_yolo/img.jpg\",image)\n",
    "    #cv2.waitKey(0)\n",
    "    #cv2.destroyAllWindows()\n",
    "    \n",
    "def crops(value):\n",
    "    for i in range(len(x_y_values)):\n",
    "        for j in range (i+1,len(x_y_values)-1):\n",
    "            box1 = x_y_values[i]\n",
    "            box2 = x_y_values[j]\n",
    "            overlap(box1,box2,value)\n",
    "    \n",
    "def overlap(box1, box2,value):\n",
    "    poly_1 = Polygon(box1)\n",
    "    poly_2 = Polygon(box2)\n",
    "    iou = poly_1.intersection(poly_2).area / poly_1.union(poly_2).area\n",
    "#     print(\"overlap\", iou*100)\n",
    "    if iou > 0.02:\n",
    "        crop(box1,box2, value)\n",
    "    \n",
    "def crop(box1, box2, value):\n",
    "\n",
    "    b1x = box1[1][0] + box1[3][0]\n",
    "    b1x = b1x/2\n",
    "    \n",
    "    b1y = box1[1][1] + box1[3][1]\n",
    "    b1y = b1y/2\n",
    "    \n",
    "    b2x = box2[1][0] + box2[3][0]\n",
    "    b2x = b2x/2\n",
    "    \n",
    "    b2y = box2[1][1] + box2[3][1]\n",
    "    b2y = b2y/2\n",
    "    \n",
    "    c1 = (b1x+b2x)/2 \n",
    "    c2 = (b1y+b2y)/2 \n",
    "    img = cv2.imread(value)\n",
    "    a = c2-padding\n",
    "    b = c2+padding\n",
    "    c = c1-padding\n",
    "    d = c1+padding\n",
    "\n",
    "    if a < 0:\n",
    "        a=0\n",
    "    if b < 0:\n",
    "        b=0\n",
    "    if c < 0:\n",
    "        c=0\n",
    "    if d < 0:\n",
    "        d=0\n",
    "    crop_img = img[int(a):int(b),int(c):int(d)]\n",
    "    cv2.imwrite( \"images/cropped_image/cropped.jpg\",crop_img)\n",
    "    prediction = prepare('images/cropped_image/cropped.jpg')\n",
    "    if prediction == 1:\n",
    "        cv2.imwrite( \"static/Final_image.jpg\",crop_img)\n",
    "        \n",
    "    \n",
    "        \n"
   ]
  },
  {
   "cell_type": "code",
   "execution_count": null,
   "metadata": {},
   "outputs": [],
   "source": []
  },
  {
   "cell_type": "code",
   "execution_count": null,
   "metadata": {},
   "outputs": [],
   "source": []
  },
  {
   "cell_type": "code",
   "execution_count": null,
   "metadata": {},
   "outputs": [],
   "source": []
  },
  {
   "cell_type": "code",
   "execution_count": null,
   "metadata": {},
   "outputs": [],
   "source": []
  },
  {
   "cell_type": "code",
   "execution_count": 50,
   "metadata": {},
   "outputs": [
    {
     "name": "stdout",
     "output_type": "stream",
     "text": [
      "demo.mp4\n",
      " * Serving Flask app \"__main__\" (lazy loading)\n",
      " * Environment: production\n",
      "   WARNING: Do not use the development server in a production environment.\n",
      "   Use a production WSGI server instead.\n",
      " * Debug mode: off\n"
     ]
    },
    {
     "name": "stderr",
     "output_type": "stream",
     "text": [
      " * Running on http://0.0.0.0:5000/ (Press CTRL+C to quit)\n",
      "I0213 00:42:43.629019 14744 _internal.py:88]  * Running on http://0.0.0.0:5000/ (Press CTRL+C to quit)\n",
      "127.0.0.1 - - [13/Feb/2020 00:42:46] \"\u001b[37mGET / HTTP/1.1\u001b[0m\" 200 -\n",
      "I0213 00:42:46.072214  3176 _internal.py:88] 127.0.0.1 - - [13/Feb/2020 00:42:46] \"\u001b[37mGET / HTTP/1.1\u001b[0m\" 200 -\n"
     ]
    },
    {
     "name": "stdout",
     "output_type": "stream",
     "text": [
      "check\n"
     ]
    },
    {
     "name": "stderr",
     "output_type": "stream",
     "text": [
      "127.0.0.1 - - [13/Feb/2020 00:42:46] \"\u001b[37mGET /static/Final_image.jpg HTTP/1.1\u001b[0m\" 200 -\n",
      "I0213 00:42:46.440229 10892 _internal.py:88] 127.0.0.1 - - [13/Feb/2020 00:42:46] \"\u001b[37mGET /static/Final_image.jpg HTTP/1.1\u001b[0m\" 200 -\n"
     ]
    },
    {
     "name": "stdout",
     "output_type": "stream",
     "text": [
      "Starting camera thread.\n",
      "[INFO] loading YOLO from disk...\n"
     ]
    },
    {
     "name": "stderr",
     "output_type": "stream",
     "text": [
      "127.0.0.1 - - [13/Feb/2020 00:42:47] \"\u001b[37mGET /acc HTTP/1.1\u001b[0m\" 200 -\n",
      "I0213 00:42:47.588157 16120 _internal.py:88] 127.0.0.1 - - [13/Feb/2020 00:42:47] \"\u001b[37mGET /acc HTTP/1.1\u001b[0m\" 200 -\n"
     ]
    },
    {
     "name": "stdout",
     "output_type": "stream",
     "text": [
      "[INFO] YOLO took 1.034235 seconds\n"
     ]
    },
    {
     "name": "stderr",
     "output_type": "stream",
     "text": [
      "127.0.0.1 - - [13/Feb/2020 00:42:48] \"\u001b[37mGET /video_feed HTTP/1.1\u001b[0m\" 200 -\n",
      "I0213 00:42:48.619398  6088 _internal.py:88] 127.0.0.1 - - [13/Feb/2020 00:42:48] \"\u001b[37mGET /video_feed HTTP/1.1\u001b[0m\" 200 -\n",
      "127.0.0.1 - - [13/Feb/2020 00:42:48] \"\u001b[37mGET /acc HTTP/1.1\u001b[0m\" 200 -\n",
      "I0213 00:42:48.888675  9032 _internal.py:88] 127.0.0.1 - - [13/Feb/2020 00:42:48] \"\u001b[37mGET /acc HTTP/1.1\u001b[0m\" 200 -\n"
     ]
    },
    {
     "name": "stdout",
     "output_type": "stream",
     "text": [
      "[INFO] loading YOLO from disk...\n"
     ]
    },
    {
     "name": "stderr",
     "output_type": "stream",
     "text": [
      "127.0.0.1 - - [13/Feb/2020 00:42:49] \"\u001b[37mGET /acc HTTP/1.1\u001b[0m\" 200 -\n",
      "I0213 00:42:49.888916 16680 _internal.py:88] 127.0.0.1 - - [13/Feb/2020 00:42:49] \"\u001b[37mGET /acc HTTP/1.1\u001b[0m\" 200 -\n"
     ]
    },
    {
     "name": "stdout",
     "output_type": "stream",
     "text": [
      "[INFO] YOLO took 1.022180 seconds\n"
     ]
    },
    {
     "name": "stderr",
     "output_type": "stream",
     "text": [
      "127.0.0.1 - - [13/Feb/2020 00:42:50] \"\u001b[37mGET /acc HTTP/1.1\u001b[0m\" 200 -\n",
      "I0213 00:42:50.889281 11140 _internal.py:88] 127.0.0.1 - - [13/Feb/2020 00:42:50] \"\u001b[37mGET /acc HTTP/1.1\u001b[0m\" 200 -\n"
     ]
    },
    {
     "name": "stdout",
     "output_type": "stream",
     "text": [
      "[INFO] loading YOLO from disk...\n"
     ]
    },
    {
     "name": "stderr",
     "output_type": "stream",
     "text": [
      "127.0.0.1 - - [13/Feb/2020 00:42:51] \"\u001b[37mGET /acc HTTP/1.1\u001b[0m\" 200 -\n",
      "I0213 00:42:51.893853 14500 _internal.py:88] 127.0.0.1 - - [13/Feb/2020 00:42:51] \"\u001b[37mGET /acc HTTP/1.1\u001b[0m\" 200 -\n"
     ]
    },
    {
     "name": "stdout",
     "output_type": "stream",
     "text": [
      "[INFO] YOLO took 0.927877 seconds\n",
      "[INFO] loading YOLO from disk...\n"
     ]
    },
    {
     "name": "stderr",
     "output_type": "stream",
     "text": [
      "127.0.0.1 - - [13/Feb/2020 00:42:52] \"\u001b[37mGET /acc HTTP/1.1\u001b[0m\" 200 -\n",
      "I0213 00:42:52.888087 15016 _internal.py:88] 127.0.0.1 - - [13/Feb/2020 00:42:52] \"\u001b[37mGET /acc HTTP/1.1\u001b[0m\" 200 -\n",
      "127.0.0.1 - - [13/Feb/2020 00:42:53] \"\u001b[37mGET /acc HTTP/1.1\u001b[0m\" 200 -\n",
      "I0213 00:42:53.889527 16396 _internal.py:88] 127.0.0.1 - - [13/Feb/2020 00:42:53] \"\u001b[37mGET /acc HTTP/1.1\u001b[0m\" 200 -\n"
     ]
    },
    {
     "name": "stdout",
     "output_type": "stream",
     "text": [
      "[INFO] YOLO took 0.915136 seconds\n",
      "[INFO] loading YOLO from disk...\n"
     ]
    },
    {
     "name": "stderr",
     "output_type": "stream",
     "text": [
      "127.0.0.1 - - [13/Feb/2020 00:42:54] \"\u001b[37mGET /acc HTTP/1.1\u001b[0m\" 200 -\n",
      "I0213 00:42:54.893564 17216 _internal.py:88] 127.0.0.1 - - [13/Feb/2020 00:42:54] \"\u001b[37mGET /acc HTTP/1.1\u001b[0m\" 200 -\n"
     ]
    },
    {
     "name": "stdout",
     "output_type": "stream",
     "text": [
      "[INFO] YOLO took 0.927463 seconds\n"
     ]
    },
    {
     "name": "stderr",
     "output_type": "stream",
     "text": [
      "127.0.0.1 - - [13/Feb/2020 00:42:55] \"\u001b[37mGET /acc HTTP/1.1\u001b[0m\" 200 -\n",
      "I0213 00:42:55.887780 14496 _internal.py:88] 127.0.0.1 - - [13/Feb/2020 00:42:55] \"\u001b[37mGET /acc HTTP/1.1\u001b[0m\" 200 -\n"
     ]
    },
    {
     "name": "stdout",
     "output_type": "stream",
     "text": [
      "[INFO] loading YOLO from disk...\n"
     ]
    },
    {
     "name": "stderr",
     "output_type": "stream",
     "text": [
      "127.0.0.1 - - [13/Feb/2020 00:42:56] \"\u001b[37mGET /acc HTTP/1.1\u001b[0m\" 200 -\n",
      "I0213 00:42:56.892760  2600 _internal.py:88] 127.0.0.1 - - [13/Feb/2020 00:42:56] \"\u001b[37mGET /acc HTTP/1.1\u001b[0m\" 200 -\n"
     ]
    },
    {
     "name": "stdout",
     "output_type": "stream",
     "text": [
      "[INFO] YOLO took 0.911484 seconds\n"
     ]
    },
    {
     "data": {
      "image/png": "[encoded data removed]",
      "text/plain": [
       "<Figure size 432x288 with 1 Axes>"
      ]
     },
     "metadata": {
      "needs_background": "light"
     },
     "output_type": "display_data"
    },
    {
     "name": "stderr",
     "output_type": "stream",
     "text": [
      "127.0.0.1 - - [13/Feb/2020 00:42:57] \"\u001b[37mGET /acc HTTP/1.1\u001b[0m\" 200 -\n",
      "I0213 00:42:57.889230 16732 _internal.py:88] 127.0.0.1 - - [13/Feb/2020 00:42:57] \"\u001b[37mGET /acc HTTP/1.1\u001b[0m\" 200 -\n"
     ]
    },
    {
     "name": "stdout",
     "output_type": "stream",
     "text": [
      "[INFO] loading YOLO from disk...\n"
     ]
    },
    {
     "name": "stderr",
     "output_type": "stream",
     "text": [
      "127.0.0.1 - - [13/Feb/2020 00:42:58] \"\u001b[37mGET /acc HTTP/1.1\u001b[0m\" 200 -\n",
      "I0213 00:42:58.897496  9812 _internal.py:88] 127.0.0.1 - - [13/Feb/2020 00:42:58] \"\u001b[37mGET /acc HTTP/1.1\u001b[0m\" 200 -\n"
     ]
    },
    {
     "name": "stdout",
     "output_type": "stream",
     "text": [
      "[INFO] YOLO took 0.923569 seconds\n",
      "[INFO] loading YOLO from disk...\n"
     ]
    },
    {
     "name": "stderr",
     "output_type": "stream",
     "text": [
      "127.0.0.1 - - [13/Feb/2020 00:42:59] \"\u001b[37mGET /acc HTTP/1.1\u001b[0m\" 200 -\n",
      "I0213 00:42:59.890202  7080 _internal.py:88] 127.0.0.1 - - [13/Feb/2020 00:42:59] \"\u001b[37mGET /acc HTTP/1.1\u001b[0m\" 200 -\n",
      "127.0.0.1 - - [13/Feb/2020 00:43:00] \"\u001b[37mGET /acc HTTP/1.1\u001b[0m\" 200 -\n",
      "I0213 00:43:00.927259 15336 _internal.py:88] 127.0.0.1 - - [13/Feb/2020 00:43:00] \"\u001b[37mGET /acc HTTP/1.1\u001b[0m\" 200 -\n"
     ]
    },
    {
     "name": "stdout",
     "output_type": "stream",
     "text": [
      "[INFO] YOLO took 0.941344 seconds\n",
      "[INFO] loading YOLO from disk...\n"
     ]
    }
   ],
   "source": [
    "'''\n",
    "FLASK CODE\n",
    "\n",
    "'''\n",
    "path = input()\n",
    "if path == \"demo.mp4\":\n",
    "    padding = 250\n",
    "\n",
    "count = 0\n",
    "obje={\"accident\":\"not detected\"}\n",
    "# app.py\n",
    "# frames = 5 for demo2\n",
    "# frames = 20 for demo\n",
    "accident_value = \"\"\n",
    "from flask import Flask, render_template, Response, redirect, jsonify\n",
    "import cv2\n",
    "import requests\n",
    "# from camera import Camera\n",
    "# frame = cv2.videoC\n",
    "\n",
    "app = Flask(__name__)\n",
    "\n",
    "app.app_context().push()\n",
    "#with app.app_context():\n",
    "        #init_db()\n",
    "@app.route('/',methods=['GET','POST'])\n",
    "def index():\n",
    "    global accident_value\n",
    "    global obje\n",
    "    accident_value = \"none\"\n",
    "    print('check')\n",
    "    return render_template('index.html', accident_value = accident_value )\n",
    "\n",
    "@app.route('/acc',methods=['GET','POST'])\n",
    "def checks():\n",
    "    return (jsonify(obje))\n",
    "\n",
    "def gen(camera):\n",
    "    global accident_value\n",
    "    global count\n",
    "    global obje\n",
    "    app.app_context().push()\n",
    "\n",
    "    \n",
    "    while True:\n",
    "        #print(accident_value)\n",
    "        if accident_value == \"accident\" and count == 0:\n",
    "           \n",
    "            count = count + 1\n",
    "            obje={\"accident\":\"detected\"}\n",
    "            checks()\n",
    "        \n",
    "        if count == 50:\n",
    "            count = 0 \n",
    "            \n",
    "        Response(gen(Camera()),\n",
    "        mimetype='multipart/x-mixed-replace; boundary=frame')\n",
    "        frame = camera.get_frame()\n",
    "        yield (b'--frame\\r\\n'\n",
    "               b'Content-Type: image/jpeg\\r\\n\\r\\n' + frame + b'\\r\\n')\n",
    "        \n",
    "\n",
    "@app.route('/video_feed')\n",
    "def video_feed():\n",
    "    accident_value = 'hello'\n",
    "    return Response(gen(Camera()),\n",
    "                    mimetype='multipart/x-mixed-replace; boundary=frame')\n",
    "\n",
    "if __name__ == '__main__':\n",
    "    app.run(host='0.0.0.0')\n",
    "    app.app_context().push()"
   ]
  },
  {
   "cell_type": "code",
   "execution_count": null,
   "metadata": {},
   "outputs": [],
   "source": []
  },
  {
   "cell_type": "code",
   "execution_count": null,
   "metadata": {},
   "outputs": [],
   "source": []
  },
  {
   "cell_type": "code",
   "execution_count": null,
   "metadata": {},
   "outputs": [],
   "source": []
  },
  {
   "cell_type": "code",
   "execution_count": null,
   "metadata": {},
   "outputs": [],
   "source": []
  },
  {
   "cell_type": "code",
   "execution_count": null,
   "metadata": {},
   "outputs": [],
   "source": []
  },
  {
   "cell_type": "code",
   "execution_count": null,
   "metadata": {},
   "outputs": [],
   "source": []
  },
  {
   "cell_type": "code",
   "execution_count": null,
   "metadata": {},
   "outputs": [],
   "source": []
  },
  {
   "cell_type": "code",
   "execution_count": null,
   "metadata": {},
   "outputs": [],
   "source": []
  },
  {
   "cell_type": "code",
   "execution_count": 5,
   "metadata": {},
   "outputs": [],
   "source": []
  },
  {
   "cell_type": "code",
   "execution_count": null,
   "metadata": {},
   "outputs": [],
   "source": []
  },
  {
   "cell_type": "code",
   "execution_count": null,
   "metadata": {},
   "outputs": [],
   "source": []
  }
 ],
 "metadata": {
  "kernelspec": {
   "display_name": "Python 3",
   "language": "python",
   "name": "python3"
  },
  "language_info": {
   "codemirror_mode": {
    "name": "ipython",
    "version": 3
   },
   "file_extension": ".py",
   "mimetype": "text/x-python",
   "name": "python",
   "nbconvert_exporter": "python",
   "pygments_lexer": "ipython3",
   "version": "3.7.1"
  }
 },
 "nbformat": 4,
 "nbformat_minor": 2
}
